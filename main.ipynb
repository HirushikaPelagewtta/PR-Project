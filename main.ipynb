{
  "cells": [
    {
      "cell_type": "markdown",
      "metadata": {
        "id": "view-in-github",
        "colab_type": "text"
      },
      "source": [
        "<a href=\"https://colab.research.google.com/github/HirushikaPelagewtta/PR-Project/blob/main/main.ipynb\" target=\"_parent\"><img src=\"https://colab.research.google.com/assets/colab-badge.svg\" alt=\"Open In Colab\"/></a>"
      ]
    },
    {
      "cell_type": "code",
      "metadata": {
        "id": "e3472831"
      },
      "source": [
        "import torch\n",
        "import torch.nn as nn\n",
        "import torch.optim as optim\n",
        "from torch.utils.data import DataLoader, random_split\n",
        "from torchvision import datasets, transforms\n",
        "from torchvision.datasets import EMNIST\n",
        "import matplotlib.pyplot as plt\n",
        "import numpy as np\n",
        "from sklearn.metrics import confusion_matrix, classification_report\n",
        "import seaborn as sns\n",
        "import os"
      ],
      "execution_count": 1,
      "outputs": []
    },
    {
      "cell_type": "markdown",
      "metadata": {
        "id": "8cf82d7d"
      },
      "source": [
        "## Load the emnist dataset\n",
        "Download and load the EMNIST dataset using torchvision's `datasets` module.\n"
      ]
    },
    {
      "cell_type": "code",
      "metadata": {
        "id": "13f784b0",
        "outputId": "733b26f5-0746-4f9a-e2e8-d6333f15e163",
        "colab": {
          "base_uri": "https://localhost:8080/"
        }
      },
      "source": [
        "data_root = './data'\n",
        "os.makedirs(data_root, exist_ok=True)\n",
        "\n",
        "transform = transforms.Compose([\n",
        "    transforms.ToTensor(),\n",
        "    transforms.Normalize((0.1307,), (0.3081,))\n",
        "])\n",
        "\n",
        "emnist_dataset = EMNIST(root=data_root, split='mnist', download=True, transform=transform)"
      ],
      "execution_count": 2,
      "outputs": [
        {
          "output_type": "stream",
          "name": "stderr",
          "text": [
            "100%|██████████| 562M/562M [00:02<00:00, 242MB/s]\n"
          ]
        }
      ]
    },
    {
      "cell_type": "markdown",
      "metadata": {
        "id": "453032dc"
      },
      "source": [
        "### Visualize a few images\n"
      ]
    },
    {
      "cell_type": "code",
      "metadata": {
        "colab": {
          "base_uri": "https://localhost:8080/",
          "height": 410
        },
        "id": "6e1c3c41",
        "outputId": "7a5cdcf3-c389-45c0-fbba-84886cb38416"
      },
      "source": [
        "fix_emnist = transforms.Compose([\n",
        "    transforms.ToTensor(),\n",
        "    transforms.Lambda(lambda x: torch.rot90(x, -1, [1, 2])),\n",
        "    transforms.Lambda(lambda x: torch.flip(x, [2]))\n",
        "])\n",
        "\n",
        "emnist_dataset_viz = EMNIST(\n",
        "    root=data_root, split='mnist', download=True, transform=fix_emnist\n",
        ")\n",
        "\n",
        "fig, axes = plt.subplots(2, 5, figsize=(10, 4))\n",
        "axes = axes.flatten()\n",
        "\n",
        "for i in range(10):\n",
        "    img, label = emnist_dataset_viz[i]\n",
        "    axes[i].imshow(img.squeeze(), cmap='gray')\n",
        "    axes[i].set_title(f'Label: {label}')\n",
        "    axes[i].axis('off')\n",
        "\n",
        "plt.tight_layout()\n",
        "plt.show()"
      ],
      "execution_count": 4,
      "outputs": [
        {
          "output_type": "display_data",
          "data": {
            "text/plain": [
              "<Figure size 1000x400 with 10 Axes>"
            ],
            "image/png": "[encoded data removed]"
          },
          "metadata": {}
        }
      ]
    },
    {
      "cell_type": "code",
      "source": [
        "# Set a seed for reproducibility\n",
        "seed = 42\n",
        "torch.manual_seed(seed)\n",
        "np.random.seed(seed)\n",
        "\n",
        "# Define the split ratios (e.g., 70% train, 15% validation, 15% test)\n",
        "train_ratio = 0.7\n",
        "val_ratio = 0.15\n",
        "test_ratio = 0.15\n",
        "\n",
        "# Calculate the number of samples for each split\n",
        "total_samples = len(emnist_dataset)\n",
        "train_samples = int(total_samples * train_ratio)\n",
        "val_samples = int(total_samples * val_ratio)\n",
        "test_samples = total_samples - train_samples - val_samples # Ensure all samples are included\n",
        "\n",
        "# Split the dataset\n",
        "train_dataset, val_dataset, test_dataset = random_split(\n",
        "    emnist_dataset,\n",
        "    [train_samples, val_samples, test_samples],\n",
        "    generator=torch.Generator().manual_seed(seed) # Use the same seed for the generator\n",
        ")\n",
        "\n",
        "print(f\"Training dataset size: {len(train_dataset)}\")\n",
        "print(f\"Validation dataset size: {len(val_dataset)}\")\n",
        "print(f\"Test dataset size: {len(test_dataset)}\")"
      ],
      "metadata": {
        "colab": {
          "base_uri": "https://localhost:8080/"
        },
        "id": "8D2fNlJl175k",
        "outputId": "19be11c1-a0ab-49f5-d2d2-dcfbac815476"
      },
      "execution_count": 5,
      "outputs": [
        {
          "output_type": "stream",
          "name": "stdout",
          "text": [
            "Training dataset size: 42000\n",
            "Validation dataset size: 9000\n",
            "Test dataset size: 9000\n"
          ]
        }
      ]
    },
    {
      "cell_type": "code",
      "source": [
        "device = torch.device('cuda' if torch.cuda.is_available() else 'cpu')\n",
        "print(f\"Using device: {device}\")"
      ],
      "metadata": {
        "colab": {
          "base_uri": "https://localhost:8080/"
        },
        "id": "gUxsNZ5-M4cT",
        "outputId": "e0553d3f-01b2-4c37-bf19-b20daba79c9c"
      },
      "execution_count": 6,
      "outputs": [
        {
          "output_type": "stream",
          "name": "stdout",
          "text": [
            "Using device: cpu\n"
          ]
        }
      ]
    },
    {
      "cell_type": "code",
      "source": [
        "batch_size = 64\n",
        "train_loader = DataLoader(train_dataset, batch_size=batch_size, shuffle=True)\n",
        "val_loader = DataLoader(val_dataset, batch_size=batch_size, shuffle=False)\n",
        "test_loader = DataLoader(test_dataset, batch_size=batch_size, shuffle=False)"
      ],
      "metadata": {
        "id": "xCf3xRqpPQIx"
      },
      "execution_count": 7,
      "outputs": []
    },
    {
      "cell_type": "markdown",
      "source": [
        "## Build CNN Model"
      ],
      "metadata": {
        "id": "lbqhd04pPVV6"
      }
    },
    {
      "cell_type": "code",
      "source": [
        "class CustomCNN(nn.Module):\n",
        "  def __init__(self, num_classes=10):\n",
        "    super(CustomCNN, self).__init__()\n",
        "\n",
        "    # Convolutional layers\n",
        "    self.conv1 = nn.Conv2d(1, 32, kernel_size=3, padding=1)\n",
        "    self.relu1 = nn.ReLU()\n",
        "    self.pool1 = nn.MaxPool2d(kernel_size=2, stride=2)\n",
        "\n",
        "    self.conv2 = nn.Conv2d(32, 64, kernel_size=3, padding=1)\n",
        "    self.relu2 = nn.ReLU()\n",
        "    self.pool2 = nn.MaxPool2d(kernel_size=2, stride=2)\n",
        "\n",
        "    # Fully connected layers\n",
        "    self.flatten = nn.Flatten()\n",
        "    self.fc1 = nn.Linear(64 * 7 * 7, 128)\n",
        "    self.relu3 = nn.ReLU()\n",
        "    self.dropout = nn.Dropout(0.5)\n",
        "    self.fc2 = nn.Linear(128, num_classes)\n",
        "\n",
        "  def forward(self, x):\n",
        "        # Conv block 1\n",
        "        x = self.conv1(x)\n",
        "        x = self.relu1(x)\n",
        "        x = self.pool1(x)\n",
        "\n",
        "        # Conv block 2\n",
        "        x = self.conv2(x)\n",
        "        x = self.relu2(x)\n",
        "        x = self.pool2(x)\n",
        "\n",
        "        # Fully connected layers\n",
        "        x = self.flatten(x)\n",
        "        x = self.fc1(x)\n",
        "        x = self.relu3(x)\n",
        "        x = self.dropout(x)\n",
        "        x = self.fc2(x)\n",
        "\n",
        "        return x\n"
      ],
      "metadata": {
        "id": "7Gxvf8gEPXcw"
      },
      "execution_count": 8,
      "outputs": []
    },
    {
      "cell_type": "markdown",
      "source": [
        "## Training"
      ],
      "metadata": {
        "id": "i34H8hk2RDN8"
      }
    },
    {
      "cell_type": "code",
      "source": [
        "def train_epoch(model, train_loader, criterion, optimizer, device):\n",
        "    \"\"\"Train for one epoch\"\"\"\n",
        "    model.train()\n",
        "    running_loss = 0.0\n",
        "    correct = 0\n",
        "    total = 0\n",
        "\n",
        "    for inputs, labels in train_loader:\n",
        "        inputs, labels = inputs.to(device), labels.to(device)\n",
        "\n",
        "        # Forward pass\n",
        "        optimizer.zero_grad()\n",
        "        outputs = model(inputs)\n",
        "        loss = criterion(outputs, labels)\n",
        "\n",
        "        # Backward pass and optimization\n",
        "        loss.backward()\n",
        "        optimizer.step()\n",
        "\n",
        "        # Statistics\n",
        "        running_loss += loss.item()\n",
        "        _, predicted = outputs.max(1)\n",
        "        total += labels.size(0)\n",
        "        correct += predicted.eq(labels).sum().item()\n",
        "\n",
        "    epoch_loss = running_loss / len(train_loader)\n",
        "    epoch_acc = 100. * correct / total\n",
        "    return epoch_loss, epoch_acc"
      ],
      "metadata": {
        "id": "aaC0FpqnREvF"
      },
      "execution_count": 9,
      "outputs": []
    },
    {
      "cell_type": "code",
      "source": [
        "def validate(model, val_loader, criterion, device):\n",
        "    \"\"\"Validate the model\"\"\"\n",
        "    model.eval()\n",
        "    running_loss = 0.0\n",
        "    correct = 0\n",
        "    total = 0\n",
        "\n",
        "    with torch.no_grad():\n",
        "        for inputs, labels in val_loader:\n",
        "            inputs, labels = inputs.to(device), labels.to(device)\n",
        "            outputs = model(inputs)\n",
        "            loss = criterion(outputs, labels)\n",
        "\n",
        "            running_loss += loss.item()\n",
        "            _, predicted = outputs.max(1)\n",
        "            total += labels.size(0)\n",
        "            correct += predicted.eq(labels).sum().item()\n",
        "\n",
        "    epoch_loss = running_loss / len(val_loader)\n",
        "    epoch_acc = 100. * correct / total\n",
        "    return epoch_loss, epoch_acc"
      ],
      "metadata": {
        "id": "xV6-ZkKmTOPo"
      },
      "execution_count": 10,
      "outputs": []
    },
    {
      "cell_type": "code",
      "source": [
        "def train_model(model, train_loader, val_loader, criterion, optimizer,\n",
        "                num_epochs, device):\n",
        "    \"\"\"Complete training loop\"\"\"\n",
        "    train_losses = []\n",
        "    val_losses = []\n",
        "    train_accs = []\n",
        "    val_accs = []\n",
        "\n",
        "    for epoch in range(num_epochs):\n",
        "        train_loss, train_acc = train_epoch(model, train_loader, criterion,\n",
        "                                           optimizer, device)\n",
        "        val_loss, val_acc = validate(model, val_loader, criterion, device)\n",
        "\n",
        "        train_losses.append(train_loss)\n",
        "        val_losses.append(val_loss)\n",
        "        train_accs.append(train_acc)\n",
        "        val_accs.append(val_acc)\n",
        "\n",
        "        print(f'Epoch [{epoch+1}/{num_epochs}]')\n",
        "        print(f'Train Loss: {train_loss:.4f}, Train Acc: {train_acc:.2f}%')\n",
        "        print(f'Val Loss: {val_loss:.4f}, Val Acc: {val_acc:.2f}%')\n",
        "        print('-' * 60)\n",
        "\n",
        "    return train_losses, val_losses, train_accs, val_accs"
      ],
      "metadata": {
        "id": "U0K-WOEETUgP"
      },
      "execution_count": 11,
      "outputs": []
    },
    {
      "cell_type": "markdown",
      "source": [
        "## Optimizer Comparison"
      ],
      "metadata": {
        "id": "rdnxQtv4TWLE"
      }
    },
    {
      "cell_type": "code",
      "source": [
        "def find_learning_rate(model, train_loader, device, lr_min=1e-6, lr_max=1e-1):\n",
        "    \"\"\"\n",
        "    Simple learning rate finder (optional utility)\n",
        "    Trains for one epoch with exponentially increasing learning rate\n",
        "    \"\"\"\n",
        "    model.train()\n",
        "    criterion = nn.CrossEntropyLoss()\n",
        "    optimizer = optim.Adam(model.parameters(), lr=lr_min)\n",
        "\n",
        "    lrs = []\n",
        "    losses = []\n",
        "\n",
        "    lr_mult = (lr_max / lr_min) ** (1/len(train_loader))\n",
        "\n",
        "    for inputs, labels in train_loader:\n",
        "        inputs, labels = inputs.to(device), labels.to(device)\n",
        "\n",
        "        optimizer.zero_grad()\n",
        "        outputs = model(inputs)\n",
        "        loss = criterion(outputs, labels)\n",
        "        loss.backward()\n",
        "        optimizer.step()\n",
        "\n",
        "        lrs.append(optimizer.param_groups[0]['lr'])\n",
        "        losses.append(loss.item())\n",
        "\n",
        "        # Update learning rate\n",
        "        for param_group in optimizer.param_groups:\n",
        "            param_group['lr'] *= lr_mult\n",
        "\n",
        "        if loss.item() > 4 * min(losses):  # Stop if loss explodes\n",
        "            break\n",
        "\n",
        "    return lrs, losses"
      ],
      "metadata": {
        "id": "R_f2tonTTVsw"
      },
      "execution_count": 12,
      "outputs": []
    },
    {
      "cell_type": "code",
      "source": [
        "def compare_optimizers():\n",
        "    results = {}\n",
        "    num_epochs = 20\n",
        "\n",
        "    # 1. Adam Optimizer\n",
        "    print(\"\\n\" + \"=\"*60)\n",
        "    print(\"Training with Adam Optimizer\")\n",
        "    print(\"=\"*60)\n",
        "    model_adam = CustomCNN(num_classes=10).to(device)\n",
        "    optimizer_adam = optim.Adam(model_adam.parameters(), lr=0.001)\n",
        "    criterion = nn.CrossEntropyLoss()\n",
        "\n",
        "    train_losses_adam, val_losses_adam, train_accs_adam, val_accs_adam = \\\n",
        "        train_model(model_adam, train_loader, val_loader, criterion,\n",
        "                   optimizer_adam, num_epochs, device)\n",
        "\n",
        "    results['Adam'] = {\n",
        "        'model': model_adam,\n",
        "        'train_losses': train_losses_adam,\n",
        "        'val_losses': val_losses_adam,\n",
        "        'train_accs': train_accs_adam,\n",
        "        'val_accs': val_accs_adam\n",
        "    }\n",
        "\n",
        "    # 2. SGD (Standard)\n",
        "    print(\"\\n\" + \"=\"*60)\n",
        "    print(\"Training with Standard SGD\")\n",
        "    print(\"=\"*60)\n",
        "    model_sgd = CustomCNN(num_classes=10).to(device)\n",
        "    optimizer_sgd = optim.SGD(model_sgd.parameters(), lr=0.01)\n",
        "\n",
        "    train_losses_sgd, val_losses_sgd, train_accs_sgd, val_accs_sgd = \\\n",
        "        train_model(model_sgd, train_loader, val_loader, criterion,\n",
        "                   optimizer_sgd, num_epochs, device)\n",
        "\n",
        "    results['SGD'] = {\n",
        "        'model': model_sgd,\n",
        "        'train_losses': train_losses_sgd,\n",
        "        'val_losses': val_losses_sgd,\n",
        "        'train_accs': train_accs_sgd,\n",
        "        'val_accs': val_accs_sgd\n",
        "    }\n",
        "\n",
        "    # 3. SGD with Momentum\n",
        "    print(\"\\n\" + \"=\"*60)\n",
        "    print(\"Training with SGD + Momentum\")\n",
        "    print(\"=\"*60)\n",
        "    model_sgd_momentum = CustomCNN(num_classes=10).to(device)\n",
        "    optimizer_sgd_momentum = optim.SGD(model_sgd_momentum.parameters(),\n",
        "                                       lr=0.01, momentum=0.9)\n",
        "\n",
        "    train_losses_momentum, val_losses_momentum, train_accs_momentum, val_accs_momentum = \\\n",
        "        train_model(model_sgd_momentum, train_loader, val_loader, criterion,\n",
        "                   optimizer_sgd_momentum, num_epochs, device)\n",
        "\n",
        "    results['SGD_Momentum'] = {\n",
        "        'model': model_sgd_momentum,\n",
        "        'train_losses': train_losses_momentum,\n",
        "        'val_losses': val_losses_momentum,\n",
        "        'train_accs': train_accs_momentum,\n",
        "        'val_accs': val_accs_momentum\n",
        "    }\n",
        "\n",
        "    return results"
      ],
      "metadata": {
        "id": "9HUPYONlTfBY"
      },
      "execution_count": 13,
      "outputs": []
    },
    {
      "cell_type": "markdown",
      "source": [
        "## Evaluation"
      ],
      "metadata": {
        "id": "to8WEUJ3TnAw"
      }
    },
    {
      "cell_type": "code",
      "source": [
        "def evaluate_model(model, test_loader, device):\n",
        "    \"\"\"\n",
        "    Question 12: Model Evaluation\n",
        "    Computes: Accuracy, Confusion Matrix, Precision, Recall\n",
        "    \"\"\"\n",
        "    model.eval()\n",
        "    all_preds = []\n",
        "    all_labels = []\n",
        "    correct = 0\n",
        "    total = 0\n",
        "\n",
        "    with torch.no_grad():\n",
        "        for inputs, labels in test_loader:\n",
        "            inputs, labels = inputs.to(device), labels.to(device)\n",
        "            outputs = model(inputs)\n",
        "            _, predicted = outputs.max(1)\n",
        "\n",
        "            all_preds.extend(predicted.cpu().numpy())\n",
        "            all_labels.extend(labels.cpu().numpy())\n",
        "\n",
        "            total += labels.size(0)\n",
        "            correct += predicted.eq(labels).sum().item()\n",
        "\n",
        "    accuracy = 100. * correct / total\n",
        "\n",
        "    # Confusion Matrix\n",
        "    cm = confusion_matrix(all_labels, all_preds)\n",
        "\n",
        "    # Classification Report (includes precision, recall, F1-score)\n",
        "    report = classification_report(all_labels, all_preds,\n",
        "                                   target_names=[str(i) for i in range(10)])\n",
        "\n",
        "    return accuracy, cm, report"
      ],
      "metadata": {
        "id": "WGR5Q6M7ToGt"
      },
      "execution_count": 14,
      "outputs": []
    },
    {
      "cell_type": "code",
      "source": [
        "def plot_training_curves(results):\n",
        "    \"\"\"Plot training and validation curves for all optimizers\"\"\"\n",
        "    fig, axes = plt.subplots(2, 2, figsize=(15, 10))\n",
        "\n",
        "    # Loss curves\n",
        "    for name, data in results.items():\n",
        "        axes[0, 0].plot(data['train_losses'], label=f'{name} Train')\n",
        "        axes[0, 1].plot(data['val_losses'], label=f'{name} Val')\n",
        "\n",
        "    axes[0, 0].set_title('Training Loss')\n",
        "    axes[0, 0].set_xlabel('Epoch')\n",
        "    axes[0, 0].set_ylabel('Loss')\n",
        "    axes[0, 0].legend()\n",
        "    axes[0, 0].grid(True)\n",
        "\n",
        "    axes[0, 1].set_title('Validation Loss')\n",
        "    axes[0, 1].set_xlabel('Epoch')\n",
        "    axes[0, 1].set_ylabel('Loss')\n",
        "    axes[0, 1].legend()\n",
        "    axes[0, 1].grid(True)\n",
        "\n",
        "    # Accuracy curves\n",
        "    for name, data in results.items():\n",
        "        axes[1, 0].plot(data['train_accs'], label=f'{name} Train')\n",
        "        axes[1, 1].plot(data['val_accs'], label=f'{name} Val')\n",
        "\n",
        "    axes[1, 0].set_title('Training Accuracy')\n",
        "    axes[1, 0].set_xlabel('Epoch')\n",
        "    axes[1, 0].set_ylabel('Accuracy (%)')\n",
        "    axes[1, 0].legend()\n",
        "    axes[1, 0].grid(True)\n",
        "\n",
        "    axes[1, 1].set_title('Validation Accuracy')\n",
        "    axes[1, 1].set_xlabel('Epoch')\n",
        "    axes[1, 1].set_ylabel('Accuracy (%)')\n",
        "    axes[1, 1].legend()\n",
        "    axes[1, 1].grid(True)\n",
        "\n",
        "    plt.tight_layout()\n",
        "    plt.savefig('training_curves.png', dpi=300, bbox_inches='tight')\n",
        "    plt.show()"
      ],
      "metadata": {
        "id": "yF8bEIllTsbo"
      },
      "execution_count": 15,
      "outputs": []
    },
    {
      "cell_type": "code",
      "source": [
        "def plot_confusion_matrix(cm, title='Confusion Matrix'):\n",
        "    \"\"\"Plot confusion matrix\"\"\"\n",
        "    plt.figure(figsize=(10, 8))\n",
        "    sns.heatmap(cm, annot=True, fmt='d', cmap='Blues')\n",
        "    plt.title(title)\n",
        "    plt.ylabel('True Label')\n",
        "    plt.xlabel('Predicted Label')\n",
        "    plt.savefig(f'{title.replace(\" \", \"_\")}.png', dpi=300, bbox_inches='tight')\n",
        "    plt.show()"
      ],
      "metadata": {
        "id": "wzfEPD38TxC3"
      },
      "execution_count": 16,
      "outputs": []
    },
    {
      "cell_type": "code",
      "source": [
        "if __name__ == \"__main__\":\n",
        "    # Train and compare optimizers\n",
        "    print(\"Starting optimizer comparison...\")\n",
        "    results = compare_optimizers()\n",
        "\n",
        "    # Plot training curves\n",
        "    print(\"\\nPlotting training curves...\")\n",
        "    plot_training_curves(results)\n",
        "\n",
        "    # Evaluate each model on test set\n",
        "    print(\"\\n\" + \"=\"*60)\n",
        "    print(\"FINAL EVALUATION ON TEST SET\")\n",
        "    print(\"=\"*60)\n",
        "\n",
        "    for name, data in results.items():\n",
        "        print(f\"\\n{name} Optimizer:\")\n",
        "        accuracy, cm, report = evaluate_model(data['model'], test_loader, device)\n",
        "        print(f\"Test Accuracy: {accuracy:.2f}%\")\n",
        "        print(\"\\nClassification Report:\")\n",
        "        print(report)\n",
        "        plot_confusion_matrix(cm, title=f'Confusion Matrix - {name}')\n",
        "\n",
        "    print(\"\\n\" + \"=\"*60)\n",
        "    print(\"Training Complete! Check saved plots.\")\n",
        "    print(\"=\"*60)"
      ],
      "metadata": {
        "colab": {
          "base_uri": "https://localhost:8080/"
        },
        "id": "BgsUo3qCT1UE",
        "outputId": "bfc4ac98-bc7c-43c7-e0e4-8404b1a99abe"
      },
      "execution_count": null,
      "outputs": [
        {
          "output_type": "stream",
          "name": "stdout",
          "text": [
            "Starting optimizer comparison...\n",
            "\n",
            "============================================================\n",
            "Training with Adam Optimizer\n",
            "============================================================\n",
            "Epoch [1/20]\n",
            "Train Loss: 0.2478, Train Acc: 92.44%\n",
            "Val Loss: 0.0567, Val Acc: 98.33%\n",
            "------------------------------------------------------------\n",
            "Epoch [2/20]\n",
            "Train Loss: 0.0873, Train Acc: 97.49%\n",
            "Val Loss: 0.0415, Val Acc: 98.69%\n",
            "------------------------------------------------------------\n",
            "Epoch [3/20]\n",
            "Train Loss: 0.0633, Train Acc: 98.13%\n",
            "Val Loss: 0.0363, Val Acc: 98.87%\n",
            "------------------------------------------------------------\n",
            "Epoch [4/20]\n",
            "Train Loss: 0.0521, Train Acc: 98.45%\n",
            "Val Loss: 0.0330, Val Acc: 99.01%\n",
            "------------------------------------------------------------\n",
            "Epoch [5/20]\n",
            "Train Loss: 0.0462, Train Acc: 98.68%\n",
            "Val Loss: 0.0357, Val Acc: 98.90%\n",
            "------------------------------------------------------------\n",
            "Epoch [6/20]\n",
            "Train Loss: 0.0367, Train Acc: 98.88%\n",
            "Val Loss: 0.0332, Val Acc: 99.11%\n",
            "------------------------------------------------------------\n",
            "Epoch [7/20]\n",
            "Train Loss: 0.0338, Train Acc: 99.00%\n",
            "Val Loss: 0.0325, Val Acc: 99.00%\n",
            "------------------------------------------------------------\n",
            "Epoch [8/20]\n",
            "Train Loss: 0.0286, Train Acc: 99.11%\n",
            "Val Loss: 0.0287, Val Acc: 99.23%\n",
            "------------------------------------------------------------\n",
            "Epoch [9/20]\n",
            "Train Loss: 0.0266, Train Acc: 99.16%\n",
            "Val Loss: 0.0373, Val Acc: 99.18%\n",
            "------------------------------------------------------------\n",
            "Epoch [10/20]\n",
            "Train Loss: 0.0269, Train Acc: 99.22%\n",
            "Val Loss: 0.0314, Val Acc: 99.16%\n",
            "------------------------------------------------------------\n",
            "Epoch [11/20]\n",
            "Train Loss: 0.0209, Train Acc: 99.32%\n",
            "Val Loss: 0.0367, Val Acc: 99.23%\n",
            "------------------------------------------------------------\n",
            "Epoch [12/20]\n",
            "Train Loss: 0.0200, Train Acc: 99.35%\n",
            "Val Loss: 0.0388, Val Acc: 99.19%\n",
            "------------------------------------------------------------\n",
            "Epoch [13/20]\n",
            "Train Loss: 0.0167, Train Acc: 99.45%\n",
            "Val Loss: 0.0411, Val Acc: 99.07%\n",
            "------------------------------------------------------------\n",
            "Epoch [14/20]\n",
            "Train Loss: 0.0167, Train Acc: 99.49%\n",
            "Val Loss: 0.0386, Val Acc: 99.20%\n",
            "------------------------------------------------------------\n",
            "Epoch [15/20]\n",
            "Train Loss: 0.0162, Train Acc: 99.51%\n",
            "Val Loss: 0.0386, Val Acc: 99.21%\n",
            "------------------------------------------------------------\n",
            "Epoch [16/20]\n",
            "Train Loss: 0.0152, Train Acc: 99.45%\n",
            "Val Loss: 0.0372, Val Acc: 99.30%\n",
            "------------------------------------------------------------\n",
            "Epoch [17/20]\n",
            "Train Loss: 0.0135, Train Acc: 99.57%\n",
            "Val Loss: 0.0451, Val Acc: 99.17%\n",
            "------------------------------------------------------------\n",
            "Epoch [18/20]\n",
            "Train Loss: 0.0140, Train Acc: 99.53%\n",
            "Val Loss: 0.0461, Val Acc: 99.20%\n",
            "------------------------------------------------------------\n",
            "Epoch [19/20]\n",
            "Train Loss: 0.0126, Train Acc: 99.56%\n",
            "Val Loss: 0.0370, Val Acc: 99.32%\n",
            "------------------------------------------------------------\n",
            "Epoch [20/20]\n",
            "Train Loss: 0.0111, Train Acc: 99.65%\n",
            "Val Loss: 0.0458, Val Acc: 99.20%\n",
            "------------------------------------------------------------\n",
            "\n",
            "============================================================\n",
            "Training with Standard SGD\n",
            "============================================================\n",
            "Epoch [1/20]\n",
            "Train Loss: 0.6638, Train Acc: 79.59%\n",
            "Val Loss: 0.2428, Val Acc: 92.59%\n",
            "------------------------------------------------------------\n",
            "Epoch [2/20]\n",
            "Train Loss: 0.2754, Train Acc: 91.62%\n",
            "Val Loss: 0.1915, Val Acc: 94.57%\n",
            "------------------------------------------------------------\n",
            "Epoch [3/20]\n",
            "Train Loss: 0.2091, Train Acc: 93.61%\n",
            "Val Loss: 0.1375, Val Acc: 95.90%\n",
            "------------------------------------------------------------\n",
            "Epoch [4/20]\n",
            "Train Loss: 0.1724, Train Acc: 94.85%\n",
            "Val Loss: 0.1135, Val Acc: 96.57%\n",
            "------------------------------------------------------------\n",
            "Epoch [5/20]\n",
            "Train Loss: 0.1433, Train Acc: 95.73%\n",
            "Val Loss: 0.1107, Val Acc: 96.70%\n",
            "------------------------------------------------------------\n",
            "Epoch [6/20]\n",
            "Train Loss: 0.1225, Train Acc: 96.42%\n",
            "Val Loss: 0.0856, Val Acc: 97.36%\n",
            "------------------------------------------------------------\n",
            "Epoch [7/20]\n",
            "Train Loss: 0.1099, Train Acc: 96.71%\n",
            "Val Loss: 0.0741, Val Acc: 97.76%\n",
            "------------------------------------------------------------\n",
            "Epoch [8/20]\n",
            "Train Loss: 0.0972, Train Acc: 97.06%\n",
            "Val Loss: 0.0689, Val Acc: 98.04%\n",
            "------------------------------------------------------------\n",
            "Epoch [9/20]\n",
            "Train Loss: 0.0880, Train Acc: 97.44%\n",
            "Val Loss: 0.0711, Val Acc: 97.96%\n",
            "------------------------------------------------------------\n",
            "Epoch [10/20]\n",
            "Train Loss: 0.0806, Train Acc: 97.68%\n",
            "Val Loss: 0.0675, Val Acc: 97.89%\n",
            "------------------------------------------------------------\n",
            "Epoch [11/20]\n",
            "Train Loss: 0.0758, Train Acc: 97.77%\n",
            "Val Loss: 0.0580, Val Acc: 98.26%\n",
            "------------------------------------------------------------\n",
            "Epoch [12/20]\n",
            "Train Loss: 0.0701, Train Acc: 97.92%\n",
            "Val Loss: 0.0510, Val Acc: 98.53%\n",
            "------------------------------------------------------------\n",
            "Epoch [13/20]\n",
            "Train Loss: 0.0650, Train Acc: 98.04%\n",
            "Val Loss: 0.0555, Val Acc: 98.36%\n",
            "------------------------------------------------------------\n",
            "Epoch [14/20]\n",
            "Train Loss: 0.0613, Train Acc: 98.22%\n",
            "Val Loss: 0.0564, Val Acc: 98.29%\n",
            "------------------------------------------------------------\n",
            "Epoch [15/20]\n",
            "Train Loss: 0.0579, Train Acc: 98.29%\n",
            "Val Loss: 0.0491, Val Acc: 98.44%\n",
            "------------------------------------------------------------\n",
            "Epoch [16/20]\n",
            "Train Loss: 0.0546, Train Acc: 98.38%\n",
            "Val Loss: 0.0456, Val Acc: 98.64%\n",
            "------------------------------------------------------------\n",
            "Epoch [17/20]\n",
            "Train Loss: 0.0529, Train Acc: 98.41%\n",
            "Val Loss: 0.0440, Val Acc: 98.69%\n",
            "------------------------------------------------------------\n",
            "Epoch [18/20]\n",
            "Train Loss: 0.0501, Train Acc: 98.44%\n",
            "Val Loss: 0.0433, Val Acc: 98.73%\n",
            "------------------------------------------------------------\n",
            "Epoch [19/20]\n",
            "Train Loss: 0.0494, Train Acc: 98.54%\n",
            "Val Loss: 0.0415, Val Acc: 98.81%\n",
            "------------------------------------------------------------\n",
            "Epoch [20/20]\n",
            "Train Loss: 0.0477, Train Acc: 98.51%\n",
            "Val Loss: 0.0410, Val Acc: 98.81%\n",
            "------------------------------------------------------------\n",
            "\n",
            "============================================================\n",
            "Training with SGD + Momentum\n",
            "============================================================\n",
            "Epoch [1/20]\n",
            "Train Loss: 0.3313, Train Acc: 89.56%\n",
            "Val Loss: 0.0706, Val Acc: 97.81%\n",
            "------------------------------------------------------------\n",
            "Epoch [2/20]\n",
            "Train Loss: 0.1047, Train Acc: 96.97%\n",
            "Val Loss: 0.0525, Val Acc: 98.39%\n",
            "------------------------------------------------------------\n",
            "Epoch [3/20]\n",
            "Train Loss: 0.0762, Train Acc: 97.75%\n",
            "Val Loss: 0.0438, Val Acc: 98.64%\n",
            "------------------------------------------------------------\n",
            "Epoch [4/20]\n",
            "Train Loss: 0.0608, Train Acc: 98.24%\n",
            "Val Loss: 0.0427, Val Acc: 98.68%\n",
            "------------------------------------------------------------\n",
            "Epoch [5/20]\n",
            "Train Loss: 0.0544, Train Acc: 98.42%\n",
            "Val Loss: 0.0354, Val Acc: 98.94%\n",
            "------------------------------------------------------------\n",
            "Epoch [6/20]\n",
            "Train Loss: 0.0456, Train Acc: 98.64%\n",
            "Val Loss: 0.0418, Val Acc: 98.81%\n",
            "------------------------------------------------------------\n",
            "Epoch [7/20]\n",
            "Train Loss: 0.0406, Train Acc: 98.72%\n",
            "Val Loss: 0.0340, Val Acc: 99.02%\n",
            "------------------------------------------------------------\n",
            "Epoch [8/20]\n",
            "Train Loss: 0.0365, Train Acc: 98.90%\n",
            "Val Loss: 0.0328, Val Acc: 99.13%\n",
            "------------------------------------------------------------\n",
            "Epoch [9/20]\n",
            "Train Loss: 0.0316, Train Acc: 99.01%\n",
            "Val Loss: 0.0328, Val Acc: 99.18%\n",
            "------------------------------------------------------------\n",
            "Epoch [10/20]\n",
            "Train Loss: 0.0277, Train Acc: 99.13%\n",
            "Val Loss: 0.0325, Val Acc: 99.19%\n",
            "------------------------------------------------------------\n",
            "Epoch [11/20]\n",
            "Train Loss: 0.0252, Train Acc: 99.15%\n",
            "Val Loss: 0.0400, Val Acc: 99.11%\n",
            "------------------------------------------------------------\n",
            "Epoch [12/20]\n",
            "Train Loss: 0.0250, Train Acc: 99.18%\n",
            "Val Loss: 0.0351, Val Acc: 99.04%\n",
            "------------------------------------------------------------\n",
            "Epoch [13/20]\n",
            "Train Loss: 0.0228, Train Acc: 99.31%\n",
            "Val Loss: 0.0352, Val Acc: 99.19%\n",
            "------------------------------------------------------------\n",
            "Epoch [14/20]\n",
            "Train Loss: 0.0208, Train Acc: 99.33%\n",
            "Val Loss: 0.0321, Val Acc: 99.23%\n",
            "------------------------------------------------------------\n"
          ]
        }
      ]
    }
  ],
  "metadata": {
    "colab": {
      "provenance": [],
      "include_colab_link": true
    },
    "kernelspec": {
      "display_name": "Python 3",
      "name": "python3"
    },
    "language_info": {
      "codemirror_mode": {
        "name": "ipython",
        "version": 3
      },
      "file_extension": ".py",
      "mimetype": "text/x-python",
      "name": "python",
      "nbconvert_exporter": "python",
      "pygments_lexer": "ipython3",
      "version": "3.12.6"
    }
  },
  "nbformat": 4,
  "nbformat_minor": 0
}